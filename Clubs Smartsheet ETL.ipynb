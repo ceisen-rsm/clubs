{
 "cells": [
  {
   "cell_type": "markdown",
   "id": "725ea510",
   "metadata": {},
   "source": [
    "### PowerBI Report"
   ]
  },
  {
   "cell_type": "code",
   "execution_count": 1,
   "id": "ca3447b9",
   "metadata": {},
   "outputs": [],
   "source": [
    "import pandas as pd\n",
    "import numpy as np"
   ]
  },
  {
   "cell_type": "markdown",
   "id": "eac2b25e",
   "metadata": {},
   "source": [
    "#### Import Data\n",
    "\n",
    "###### 1. Import historical Trends_2022.xlsx file. This contains the historical trends data required for historical benchmarking\n",
    "\n",
    "###### 2. Import 2023 Smartsheet Upload.xlsx file. This contains the 2023 data (and FY2024 data) needed for current reporting\n",
    "\n",
    "###### 3. FUTURE STEP: 2024 data (FY2025) will be provided by the client. This will also have to be loaded and appended to the current data model. Updates in code required"
   ]
  },
  {
   "cell_type": "code",
   "execution_count": null,
   "id": "553dec26",
   "metadata": {},
   "outputs": [],
   "source": [
    "# 2022 Historical Data\n",
    "df = pd.read_excel('Dta/Smartsheet/Trends_2022.xlsx',\n",
    "                   header=0,\n",
    "                   sheet_name='IN ROWS',\n",
    "                   skiprows= range(1, 55),\n",
    "                   usecols = 'A:B, D, F:G, K, Q:S, W:X, AE:AF, AH:AI, AK:AL, AX:BD, BE:BG, BI:BK, BM:BN, BP:BQ, BT:BU, BZ:CI, CV:DA, ED:EI, EK:EP, EU:EZ, FB:FC, FQ:FW, GJ:GV')\n",
    "\n",
    "# 2023 Historical Data \n",
    "clubs = pd.read_excel('Dta/Smartsheet/2023 Smartsheet Upload.xlsx', sheet_name=\"Sheet1\")"
   ]
  },
  {
   "cell_type": "code",
   "execution_count": 2,
   "id": "f848245a",
   "metadata": {},
   "outputs": [
    {
     "name": "stdout",
     "output_type": "stream",
     "text": [
      "0      1122.0\n",
      "1       717.0\n",
      "2      1488.0\n",
      "3       395.0\n",
      "4       957.0\n",
      "        ...  \n",
      "107     300.0\n",
      "108     467.0\n",
      "109    1006.0\n",
      "110     719.0\n",
      "111       NaN\n",
      "Name: Total Membership, Length: 112, dtype: float64\n"
     ]
    }
   ],
   "source": [
    "print(clubs['Total Membership'])"
   ]
  },
  {
   "cell_type": "code",
   "execution_count": 3,
   "id": "c11171b6",
   "metadata": {},
   "outputs": [],
   "source": [
    "df.columns = df.iloc[0]\n",
    "df = df.iloc[1:]"
   ]
  },
  {
   "cell_type": "markdown",
   "id": "63c4feed",
   "metadata": {},
   "source": [
    "### Change Field Names\n",
    "\n",
    "###### Change field names to reflect how they are tracked and audited by Clubs team"
   ]
  },
  {
   "cell_type": "code",
   "execution_count": 4,
   "id": "a0f06225",
   "metadata": {},
   "outputs": [],
   "source": [
    "col_list = ['Club name', 'Classification', 'Year end', 'Type', 'Mandatory Membership', 'Full Member Equivalents (FME)', \n",
    "            'Refundable Equity', 'Non-refundable equity', 'Total equity', 'Dues Rate - Current Year', \n",
    "            'Dues Rate - Audit Year', 'General Capital Assessment', 'Capital Assessment Amount', 'Operating Assessment',\n",
    "            'Operating Assessment Amount', 'Other Capital', 'Amount of general capital assessment', 'Major renovation',\n",
    "            'Clubhouse', 'Golf Course', 'Fitness/Wellness/Spa', 'Marina', 'Tennis/ Racquet', 'Pool', \n",
    "            'Budgeted Major Capital Project', 'Amount of Budgeted Major Capital Project', \n",
    "            'Amount of Budgeted Other Capital Projects', 'Ending PPE, net', 'Capital Expenditures (PP&E)', \n",
    "            'Depreciation Expense', 'Third Party Debt', 'Total Third Party Debt', 'Current Assets', \n",
    "            'Current Liabilities', 'Total Total Liabilities', 'Ending Net Assets', 'Golf Revenue', 'Tennis Revenue', \n",
    "            'Pro Shop Sales', 'Other Sports Revenue', 'Dues Revenue', 'Operating Assessments', \n",
    "            'Non-Owner Initiation fees', 'Food Revenue', 'Beverage Revenue', 'All Other F&B Revenue', \n",
    "            'Payroll and PTEB Expense', 'Cost of sales - F&B', 'Cost of Sales - Pro shop', 'Operating Expenses', \n",
    "            'Property Taxes', 'Insurance Expense', 'Total employees in season', 'Use of Organized Foreign Labor',\n",
    "            '# Foreign Staff hired in yr', 'Total Foreign Labor Costs', 'Increase in Health Insurance', \n",
    "            '% inc. in Health Insurance', 'Food and Beverage Minimum', 'Amount of F&B Minimum', \n",
    "            'Automatic F&B Gratuity', '% amt of F&B gratuity', 'Mandatory Service Charge', \n",
    "            'Amount of Monthly Service Charge', '# full service kitchens', '# covers (include function / banquet)', \n",
    "            '#  function / banquet covers', 'Compensation Method for F&B Staff', 'Food sales (exc Mins)', \n",
    "            'Cost of food sold', 'Beverage sales', 'Cost of beverage sales', \n",
    "            'F&B - Salaries and wages expense (EXC credit for M', 'F&B - Less credit = 20% of F&B sales (only applies', \n",
    "            'F&B - Payroll taxes and benefits', \"F&B - Employees' meals\", 'F&B - Laundry', \n",
    "            'F&B - Linen, china, glass, silver', 'F&B - Other expenses (excluding entertainment, val', \n",
    "            'Increase in Menu Prices', 'Av % inc Menu Price', 'Increase in Beverage Prices', 'Av % inc Bev Price', \n",
    "            '# of holes', 'Maintained golf acreage', 'Rounds per year', 'GCM  Salaries and wages', \n",
    "            'GCM  Payroll taxes and benefits', 'GCM  Course supplies and contracts (includes gaso', \n",
    "            'GCM  Repairs & mtce (includes tree trimming, lake', 'GCM  Leased equipment expense', \n",
    "            'GCM  All other expenses (including utilities)'\n",
    "]\n",
    "df.columns = col_list"
   ]
  },
  {
   "cell_type": "code",
   "execution_count": 5,
   "id": "63ef561f",
   "metadata": {},
   "outputs": [],
   "source": [
    "df['Index'] = df.index"
   ]
  },
  {
   "cell_type": "code",
   "execution_count": 6,
   "id": "2c95179b",
   "metadata": {},
   "outputs": [],
   "source": [
    "df['Index'] = df['Index'].astype(str)"
   ]
  },
  {
   "cell_type": "markdown",
   "id": "5cd0cfa7",
   "metadata": {},
   "source": [
    "### Renovation Unpivot\n",
    "\n",
    "###### Clubs renovations are indexed as column headers ('Clubhouse', 'Golf Course', 'Fitness/Wellness/Spa', 'Marina', 'Tennis/ Racquet', 'Pool'). Recode for Types of Renovation to match Clubs data standards"
   ]
  },
  {
   "cell_type": "code",
   "execution_count": null,
   "id": "037a3518",
   "metadata": {},
   "outputs": [],
   "source": [
    "# Create a dataframe with the columns that need to be unpivoted\n",
    "unpivot = df[['Index', 'Clubhouse', 'Golf Course', 'Fitness/Wellness/Spa', 'Marina', 'Tennis/ Racquet', 'Pool']]"
   ]
  },
  {
   "cell_type": "code",
   "execution_count": null,
   "id": "aa2acf15",
   "metadata": {},
   "outputs": [
    {
     "name": "stderr",
     "output_type": "stream",
     "text": [
      "C:\\Users\\E082336\\AppData\\Local\\Temp\\ipykernel_13332\\3412996479.py:2: SettingWithCopyWarning: \n",
      "A value is trying to be set on a copy of a slice from a DataFrame.\n",
      "Try using .loc[row_indexer,col_indexer] = value instead\n",
      "\n",
      "See the caveats in the documentation: https://pandas.pydata.org/pandas-docs/stable/user_guide/indexing.html#returning-a-view-versus-a-copy\n",
      "  unpivot['Clubhouse'] = unpivot['Clubhouse'].map({1: 'Clubhouse', 0: np.nan})\n",
      "C:\\Users\\E082336\\AppData\\Local\\Temp\\ipykernel_13332\\3412996479.py:3: SettingWithCopyWarning: \n",
      "A value is trying to be set on a copy of a slice from a DataFrame.\n",
      "Try using .loc[row_indexer,col_indexer] = value instead\n",
      "\n",
      "See the caveats in the documentation: https://pandas.pydata.org/pandas-docs/stable/user_guide/indexing.html#returning-a-view-versus-a-copy\n",
      "  unpivot['Golf Course'] = unpivot['Golf Course'].map({1: 'Golf Course', 0: np.nan})\n",
      "C:\\Users\\E082336\\AppData\\Local\\Temp\\ipykernel_13332\\3412996479.py:4: SettingWithCopyWarning: \n",
      "A value is trying to be set on a copy of a slice from a DataFrame.\n",
      "Try using .loc[row_indexer,col_indexer] = value instead\n",
      "\n",
      "See the caveats in the documentation: https://pandas.pydata.org/pandas-docs/stable/user_guide/indexing.html#returning-a-view-versus-a-copy\n",
      "  unpivot['Fitness/Wellness/Spa'] = unpivot['Fitness/Wellness/Spa'].map({1: 'Fitness/Wellness/Spa', 0: np.nan})\n",
      "C:\\Users\\E082336\\AppData\\Local\\Temp\\ipykernel_13332\\3412996479.py:5: SettingWithCopyWarning: \n",
      "A value is trying to be set on a copy of a slice from a DataFrame.\n",
      "Try using .loc[row_indexer,col_indexer] = value instead\n",
      "\n",
      "See the caveats in the documentation: https://pandas.pydata.org/pandas-docs/stable/user_guide/indexing.html#returning-a-view-versus-a-copy\n",
      "  unpivot['Marina'] = unpivot['Marina'].map({1: 'Marina', 0: np.nan})\n",
      "C:\\Users\\E082336\\AppData\\Local\\Temp\\ipykernel_13332\\3412996479.py:6: SettingWithCopyWarning: \n",
      "A value is trying to be set on a copy of a slice from a DataFrame.\n",
      "Try using .loc[row_indexer,col_indexer] = value instead\n",
      "\n",
      "See the caveats in the documentation: https://pandas.pydata.org/pandas-docs/stable/user_guide/indexing.html#returning-a-view-versus-a-copy\n",
      "  unpivot['Tennis/ Racquet'] = unpivot['Tennis/ Racquet'].map({1: 'Tennis/ Racquet', 0: np.nan})\n",
      "C:\\Users\\E082336\\AppData\\Local\\Temp\\ipykernel_13332\\3412996479.py:7: SettingWithCopyWarning: \n",
      "A value is trying to be set on a copy of a slice from a DataFrame.\n",
      "Try using .loc[row_indexer,col_indexer] = value instead\n",
      "\n",
      "See the caveats in the documentation: https://pandas.pydata.org/pandas-docs/stable/user_guide/indexing.html#returning-a-view-versus-a-copy\n",
      "  unpivot['Pool'] = unpivot['Pool'].map({1: 'Pool', 0: np.nan})\n"
     ]
    }
   ],
   "source": [
    "# Code numeric to categorical string values\n",
    "unpivot['Clubhouse'] = unpivot['Clubhouse'].map({1: 'Clubhouse', 0: np.nan})\n",
    "unpivot['Golf Course'] = unpivot['Golf Course'].map({1: 'Golf Course', 0: np.nan})\n",
    "unpivot['Fitness/Wellness/Spa'] = unpivot['Fitness/Wellness/Spa'].map({1: 'Fitness/Wellness/Spa', 0: np.nan})\n",
    "unpivot['Marina'] = unpivot['Marina'].map({1: 'Marina', 0: np.nan})\n",
    "unpivot['Tennis/ Racquet'] = unpivot['Tennis/ Racquet'].map({1: 'Tennis/ Racquet', 0: np.nan})\n",
    "unpivot['Pool'] = unpivot['Pool'].map({1: 'Pool', 0: np.nan})"
   ]
  },
  {
   "cell_type": "code",
   "execution_count": 9,
   "id": "72ddba9e",
   "metadata": {},
   "outputs": [
    {
     "name": "stderr",
     "output_type": "stream",
     "text": [
      "C:\\Users\\E082336\\AppData\\Local\\Temp\\ipykernel_13332\\744467801.py:1: SettingWithCopyWarning: \n",
      "A value is trying to be set on a copy of a slice from a DataFrame.\n",
      "Try using .loc[row_indexer,col_indexer] = value instead\n",
      "\n",
      "See the caveats in the documentation: https://pandas.pydata.org/pandas-docs/stable/user_guide/indexing.html#returning-a-view-versus-a-copy\n",
      "  unpivot['Renovation'] = unpivot[['Clubhouse', 'Golf Course', 'Fitness/Wellness/Spa', 'Marina', 'Tennis/ Racquet', 'Pool']].apply(lambda x: ','.join(x.dropna()), axis=1)\n"
     ]
    }
   ],
   "source": [
    "unpivot['Renovation'] = unpivot[['Clubhouse', 'Golf Course', 'Fitness/Wellness/Spa', 'Marina', 'Tennis/ Racquet', 'Pool']].apply(lambda x: ','.join(x.dropna()), axis=1)"
   ]
  },
  {
   "cell_type": "code",
   "execution_count": 10,
   "id": "692cf75a",
   "metadata": {},
   "outputs": [
    {
     "data": {
      "application/vnd.microsoft.datawrangler.viewer.v0+json": {
       "columns": [
        {
         "name": "index",
         "rawType": "int64",
         "type": "integer"
        },
        {
         "name": "Index",
         "rawType": "object",
         "type": "string"
        },
        {
         "name": "Clubhouse",
         "rawType": "object",
         "type": "string"
        },
        {
         "name": "Golf Course",
         "rawType": "object",
         "type": "string"
        },
        {
         "name": "Fitness/Wellness/Spa",
         "rawType": "object",
         "type": "string"
        },
        {
         "name": "Marina",
         "rawType": "object",
         "type": "string"
        },
        {
         "name": "Tennis/ Racquet",
         "rawType": "object",
         "type": "string"
        },
        {
         "name": "Pool",
         "rawType": "object",
         "type": "string"
        },
        {
         "name": "Renovation",
         "rawType": "object",
         "type": "string"
        }
       ],
       "conversionMethod": "pd.DataFrame",
       "ref": "0513f5d1-4eb4-4c8e-be3c-37b2eb2442cd",
       "rows": [
        [
         "1",
         "1",
         null,
         null,
         null,
         null,
         null,
         null,
         ""
        ],
        [
         "2",
         "2",
         null,
         null,
         null,
         null,
         null,
         null,
         ""
        ],
        [
         "3",
         "3",
         null,
         "Golf Course",
         null,
         null,
         null,
         null,
         "Golf Course"
        ],
        [
         "4",
         "4",
         null,
         null,
         null,
         null,
         null,
         null,
         ""
        ],
        [
         "5",
         "5",
         "Clubhouse",
         null,
         null,
         null,
         "Tennis/ Racquet",
         "Pool",
         "Clubhouse,Tennis/ Racquet,Pool"
        ]
       ],
       "shape": {
        "columns": 8,
        "rows": 5
       }
      },
      "text/html": [
       "<div>\n",
       "<style scoped>\n",
       "    .dataframe tbody tr th:only-of-type {\n",
       "        vertical-align: middle;\n",
       "    }\n",
       "\n",
       "    .dataframe tbody tr th {\n",
       "        vertical-align: top;\n",
       "    }\n",
       "\n",
       "    .dataframe thead th {\n",
       "        text-align: right;\n",
       "    }\n",
       "</style>\n",
       "<table border=\"1\" class=\"dataframe\">\n",
       "  <thead>\n",
       "    <tr style=\"text-align: right;\">\n",
       "      <th></th>\n",
       "      <th>Index</th>\n",
       "      <th>Clubhouse</th>\n",
       "      <th>Golf Course</th>\n",
       "      <th>Fitness/Wellness/Spa</th>\n",
       "      <th>Marina</th>\n",
       "      <th>Tennis/ Racquet</th>\n",
       "      <th>Pool</th>\n",
       "      <th>Renovation</th>\n",
       "    </tr>\n",
       "  </thead>\n",
       "  <tbody>\n",
       "    <tr>\n",
       "      <th>1</th>\n",
       "      <td>1</td>\n",
       "      <td>NaN</td>\n",
       "      <td>NaN</td>\n",
       "      <td>NaN</td>\n",
       "      <td>NaN</td>\n",
       "      <td>NaN</td>\n",
       "      <td>NaN</td>\n",
       "      <td></td>\n",
       "    </tr>\n",
       "    <tr>\n",
       "      <th>2</th>\n",
       "      <td>2</td>\n",
       "      <td>NaN</td>\n",
       "      <td>NaN</td>\n",
       "      <td>NaN</td>\n",
       "      <td>NaN</td>\n",
       "      <td>NaN</td>\n",
       "      <td>NaN</td>\n",
       "      <td></td>\n",
       "    </tr>\n",
       "    <tr>\n",
       "      <th>3</th>\n",
       "      <td>3</td>\n",
       "      <td>NaN</td>\n",
       "      <td>Golf Course</td>\n",
       "      <td>NaN</td>\n",
       "      <td>NaN</td>\n",
       "      <td>NaN</td>\n",
       "      <td>NaN</td>\n",
       "      <td>Golf Course</td>\n",
       "    </tr>\n",
       "    <tr>\n",
       "      <th>4</th>\n",
       "      <td>4</td>\n",
       "      <td>NaN</td>\n",
       "      <td>NaN</td>\n",
       "      <td>NaN</td>\n",
       "      <td>NaN</td>\n",
       "      <td>NaN</td>\n",
       "      <td>NaN</td>\n",
       "      <td></td>\n",
       "    </tr>\n",
       "    <tr>\n",
       "      <th>5</th>\n",
       "      <td>5</td>\n",
       "      <td>Clubhouse</td>\n",
       "      <td>NaN</td>\n",
       "      <td>NaN</td>\n",
       "      <td>NaN</td>\n",
       "      <td>Tennis/ Racquet</td>\n",
       "      <td>Pool</td>\n",
       "      <td>Clubhouse,Tennis/ Racquet,Pool</td>\n",
       "    </tr>\n",
       "  </tbody>\n",
       "</table>\n",
       "</div>"
      ],
      "text/plain": [
       "  Index  Clubhouse  Golf Course Fitness/Wellness/Spa Marina  Tennis/ Racquet  \\\n",
       "1     1        NaN          NaN                  NaN    NaN              NaN   \n",
       "2     2        NaN          NaN                  NaN    NaN              NaN   \n",
       "3     3        NaN  Golf Course                  NaN    NaN              NaN   \n",
       "4     4        NaN          NaN                  NaN    NaN              NaN   \n",
       "5     5  Clubhouse          NaN                  NaN    NaN  Tennis/ Racquet   \n",
       "\n",
       "   Pool                      Renovation  \n",
       "1   NaN                                  \n",
       "2   NaN                                  \n",
       "3   NaN                     Golf Course  \n",
       "4   NaN                                  \n",
       "5  Pool  Clubhouse,Tennis/ Racquet,Pool  "
      ]
     },
     "execution_count": 10,
     "metadata": {},
     "output_type": "execute_result"
    }
   ],
   "source": [
    "unpivot.head()"
   ]
  },
  {
   "cell_type": "code",
   "execution_count": 11,
   "id": "6ae73140",
   "metadata": {},
   "outputs": [
    {
     "name": "stderr",
     "output_type": "stream",
     "text": [
      "C:\\Users\\E082336\\AppData\\Local\\Temp\\ipykernel_13332\\3855437097.py:1: SettingWithCopyWarning: \n",
      "A value is trying to be set on a copy of a slice from a DataFrame.\n",
      "Try using .loc[row_indexer,col_indexer] = value instead\n",
      "\n",
      "See the caveats in the documentation: https://pandas.pydata.org/pandas-docs/stable/user_guide/indexing.html#returning-a-view-versus-a-copy\n",
      "  unpivot[['Type of Renovation  1', 'Type of Renovation  2', 'Type of Renovation  3', 'Type of Renovation  4']] = unpivot['Renovation'].str.split(\",\", expand = True)\n",
      "C:\\Users\\E082336\\AppData\\Local\\Temp\\ipykernel_13332\\3855437097.py:1: SettingWithCopyWarning: \n",
      "A value is trying to be set on a copy of a slice from a DataFrame.\n",
      "Try using .loc[row_indexer,col_indexer] = value instead\n",
      "\n",
      "See the caveats in the documentation: https://pandas.pydata.org/pandas-docs/stable/user_guide/indexing.html#returning-a-view-versus-a-copy\n",
      "  unpivot[['Type of Renovation  1', 'Type of Renovation  2', 'Type of Renovation  3', 'Type of Renovation  4']] = unpivot['Renovation'].str.split(\",\", expand = True)\n",
      "C:\\Users\\E082336\\AppData\\Local\\Temp\\ipykernel_13332\\3855437097.py:1: SettingWithCopyWarning: \n",
      "A value is trying to be set on a copy of a slice from a DataFrame.\n",
      "Try using .loc[row_indexer,col_indexer] = value instead\n",
      "\n",
      "See the caveats in the documentation: https://pandas.pydata.org/pandas-docs/stable/user_guide/indexing.html#returning-a-view-versus-a-copy\n",
      "  unpivot[['Type of Renovation  1', 'Type of Renovation  2', 'Type of Renovation  3', 'Type of Renovation  4']] = unpivot['Renovation'].str.split(\",\", expand = True)\n",
      "C:\\Users\\E082336\\AppData\\Local\\Temp\\ipykernel_13332\\3855437097.py:1: SettingWithCopyWarning: \n",
      "A value is trying to be set on a copy of a slice from a DataFrame.\n",
      "Try using .loc[row_indexer,col_indexer] = value instead\n",
      "\n",
      "See the caveats in the documentation: https://pandas.pydata.org/pandas-docs/stable/user_guide/indexing.html#returning-a-view-versus-a-copy\n",
      "  unpivot[['Type of Renovation  1', 'Type of Renovation  2', 'Type of Renovation  3', 'Type of Renovation  4']] = unpivot['Renovation'].str.split(\",\", expand = True)\n"
     ]
    }
   ],
   "source": [
    "unpivot[['Type of Renovation  1', 'Type of Renovation  2', 'Type of Renovation  3', 'Type of Renovation  4']] = unpivot['Renovation'].str.split(\",\", expand = True)"
   ]
  },
  {
   "cell_type": "markdown",
   "id": "d4920965",
   "metadata": {},
   "source": [
    "###### Drop columns ('Clubhouse', 'Golf Course', 'Fitness/Wellness/Spa', 'Marina', 'Tennis/ Racquet', 'Pool', 'Renovation') and join unpivot dataframe"
   ]
  },
  {
   "cell_type": "code",
   "execution_count": 12,
   "id": "03b63f42",
   "metadata": {},
   "outputs": [],
   "source": [
    "unpivot = unpivot.drop(columns=['Clubhouse', 'Golf Course', 'Fitness/Wellness/Spa', 'Marina', 'Tennis/ Racquet', 'Pool', 'Renovation'])"
   ]
  },
  {
   "cell_type": "code",
   "execution_count": 13,
   "id": "a129350f",
   "metadata": {},
   "outputs": [],
   "source": [
    "df = df.drop(columns=['Clubhouse', 'Golf Course', 'Fitness/Wellness/Spa', 'Marina', 'Tennis/ Racquet', 'Pool'])"
   ]
  },
  {
   "cell_type": "code",
   "execution_count": 14,
   "id": "5444bbe0",
   "metadata": {},
   "outputs": [],
   "source": [
    "df_final =pd.merge(df,unpivot, on='Index', how='left')"
   ]
  },
  {
   "cell_type": "code",
   "execution_count": 15,
   "id": "bb53a319",
   "metadata": {},
   "outputs": [],
   "source": [
    "df_final['Year End'] = \"FY22\""
   ]
  },
  {
   "cell_type": "code",
   "execution_count": 16,
   "id": "903091f0",
   "metadata": {},
   "outputs": [],
   "source": [
    "df_final = df_final.drop(columns=['Index'])"
   ]
  },
  {
   "cell_type": "markdown",
   "id": "0c6cb5fe",
   "metadata": {},
   "source": [
    "### Transform\n",
    "\n",
    "###### Transform data for calculations"
   ]
  },
  {
   "cell_type": "code",
   "execution_count": 17,
   "id": "19e38eb4",
   "metadata": {},
   "outputs": [],
   "source": [
    "df_final['Year end'] = pd.to_datetime(df_final['Year end']).dt.strftime('%m/%d/%Y')\n",
    "df_final['Year end'] = pd.to_datetime(df_final['Year end'])\n",
    "df_final['Type'] = df_final['Type'].replace({1: 'Club', 0: 'Association'})\n",
    "df_final['Mandatory Membership'] = df_final['Mandatory Membership'].replace({1: 'Yes', 0: 'No'})\n",
    "df_final['General Capital Assessment'] = df_final['General Capital Assessment'].replace({1: 'Yes', 0: 'No'})\n",
    "df_final['Operating Assessment'] = df_final['Operating Assessment'].replace({1: 'Yes', 0: 'No'})\n",
    "df_final['Other Capital'] = df_final['Other Capital'].replace({1: 'Yes', 0: 'No'})\n",
    "df_final['Major renovation'] = df_final['Major renovation'].replace({1: 'Yes', 0: 'No'})\n",
    "df_final['Budgeted Major Capital Project'] = df_final['Budgeted Major Capital Project'].replace({1: 'Yes', 0: 'No'})\n",
    "df_final['Third Party Debt'] = df_final['Third Party Debt'].replace({1: 'Yes', 0: 'No'})\n",
    "df_final['Third Party Debt'] = df_final['Third Party Debt'].replace({1: 'Yes', 0: 'No'})\n",
    "df_final['Use of Organized Foreign Labor'] = df_final['Use of Organized Foreign Labor'].replace({1: 'Yes', 0: 'No'})\n",
    "df_final['Increase in Health Insurance'] = df_final['Increase in Health Insurance'].replace({1: 'Yes', 0: 'No'})\n",
    "df_final['Food and Beverage Minimum'] = df_final['Food and Beverage Minimum'].replace({1: 'Yes', 0: 'No'})\n",
    "df_final['Automatic F&B Gratuity'] = df_final['Automatic F&B Gratuity'].replace({1: 'Yes', 0: 'No'})\n",
    "df_final['Mandatory Service Charge'] = df_final['Mandatory Service Charge'].replace({1: 'Yes', 0: 'No'})\n",
    "df_final['Compensation Method for F&B Staff'] = df_final['Compensation Method for F&B Staff'].replace({2: 'Gratuity + Flat Rate', 1: 'Gratuity', 0: 'Hourly'})\n",
    "df_final['Increase in Menu Prices'] = df_final['Increase in Menu Prices'].replace({1: 'Yes', 0: 'No'})\n",
    "df_final['Increase in Beverage Prices'] = df_final['Increase in Beverage Prices'].replace({1: 'Yes', 0: 'No'})"
   ]
  },
  {
   "cell_type": "markdown",
   "id": "7ed5d55f",
   "metadata": {},
   "source": [
    "###### Change Club Names to reflect the correct names"
   ]
  },
  {
   "cell_type": "code",
   "execution_count": 18,
   "id": "1af1b8a9",
   "metadata": {},
   "outputs": [],
   "source": [
    "df_final['Club name'] = df_final['Club name'].replace({'Aberdeen Golf & CC': 'Aberdeen Golf and Country Club',\n",
    "                                                       'ADDISON RESERVE ': 'Addison Reserve Country Club',\n",
    "                                                       'BallenIsles': 'BallenIsles Country Club',\n",
    "                                                       'Banyan Golf Club of Palm Beach': 'Banyan Golf Club',\n",
    "                                                       'Bay Colony C.A.': 'Bay Colony Community Association',\n",
    "                                                       'Bay Colony GC': 'Bay Colony Golf Club',\n",
    "                                                       'Bear Lakes Country Club': 'Bear Lakes Country Club',\n",
    "                                                       \"Bear's Paw CC\": \"Bear's Paw Country Club\",\n",
    "                                                       'Boca Grove Golf & Tennis Club, Inc.': 'Boca Grove Golf and Tennis Club',\n",
    "                                                       'Boca West Country Club': 'Boca West Country Club',\n",
    "                                                       'Boca Woods CC': 'Boca Woods Country Club',\n",
    "                                                       'Bocaire Country Club': 'Bocaire Country Club',\n",
    "                                                       'Bonita Bay Club': 'Bonita Bay Club',\n",
    "                                                       'Broken Sound Club': 'Broken Sound Club',\n",
    "                                                       'Cedar hammock': 'Cedar Hammock Country Club',\n",
    "                                                       \"Collier's Reserve Country Club\": \"Collier's Reserve Country Club\",\n",
    "                                                       'Colonial CCMA': 'Colonial Country Club',\n",
    "                                                       'Coral Reef YC': 'Coral Reef Yacht Club',\n",
    "                                                       'Country Club of Florida': 'Country Club of Florida',\n",
    "                                                       'Country Club of Naples': 'Country Club of Naples',\n",
    "                                                       'Countryside Golf & Country Club': 'Countryside Golf and Country Club',                   \n",
    "                                                       'Deering Bay Yacht and Country Club': 'Deering Bay Yacht and Country Club',\n",
    "                                                       'Delaire ': 'Delaire Country Club',\n",
    "                                                       'Delray Beach Club': 'Delray Beach Club',\n",
    "                                                       'Delray Dunes': 'Delray Dunes Golf and Country Club',\n",
    "                                                       'Eagle Creek': 'Eagle Creek Golf and Country Club',\n",
    "                                                       'Esplanade Golf & Country Club at Lakewood Ranch, Inc.': 'Esplanade Golf & Country Club at Lakewood Ranch, Inc.',\n",
    "                                                       'Everglades Club': 'Everglades Club',\n",
    "                                                       'Fiddlesticks CC': 'Fiddlesticks Country Club',\n",
    "                                                       'Forest Glen G&CCMA': 'Forest Glen Golf and Country Club',\n",
    "                                                       'Fort Lauderdale Country Club': 'Fort Lauderdale Country Club',\n",
    "                                                       'Foxfire Community Association': 'Foxfire Country Club',\n",
    "                                                       \"Frenchman's Creek, Inc.\": \"Frenchman's Creek\",\n",
    "                                                       \"Frenchman's Reserve\": \"Frenchmans Reserve\",\n",
    "                                                       'Gleneagles Country Club': 'Gleneagles Country Club',\n",
    "                                                       'Grey Oaks Country Club': 'Grey Oaks Country Club',\n",
    "                                                       'Gulf Harbour Golf and Country Club': 'Gulf Harbour Yacht and Country Club',                                            'Gulf Stream Bath & Tennis Club, Inc.': 'Gulf Stream Bath and Tennis Club',\n",
    "                                                       'Gulf Stream Golf Club': 'Gulf Stream Golf Club',                                                       \n",
    "                                                       'Hammock Dunes Club': 'Hammock Dunes Club',\n",
    "                                                       'Harbour Ridge': 'Harbour Ridge',\n",
    "                                                       'Heritage Bay': 'Heritage Bay Golf and Country Club',\n",
    "                                                       'HIGH RIDGE COUNTRY CLUB': 'High Ridge Country Club',\n",
    "                                                       'Hunters Run': 'Hunters Run Country Club',\n",
    "                                                       'Ibis Golf  &CC': 'Ibis Golf and Country Club',\n",
    "                                                       'Imperial GC': 'Imperial Golf Club',\n",
    "                                                       'Indian Creek Country Club': 'Indian Creek Country Club',\n",
    "                                                       'Indian River Colony Club, Inc.': 'Indian River Colony Club',\n",
    "                                                       'Interlachen CC': 'Interlachen Country Club',\n",
    "                                                       'Isla del Sol Yacht & CC': 'Isla del Sol Yacht and Country Club',\n",
    "                                                       'ISLAND CC': 'Island Country Club',\n",
    "                                                       \"John's Island Club\": \"John's Island Club\",\n",
    "                                                       \"Jonathan's Landing Golf Club\": \"Jonathan's Landing Golf Club\",\n",
    "                                                       'Jupiter Hills Club': 'Jupiter Hills Club',\n",
    "                                                       'Jupiter Island Club Inc.': 'Jupiter Island Club',\n",
    "                                                       'Kensington Golf & Country Club': 'Kensington Golf and Country Club',\n",
    "                                                       'Key Biscayne Yacht Club, Inc.': 'Key Biscayne Yacht Club',\n",
    "                                                       'Key Largo Anglers Club': 'Key Largo Anglers Club',\n",
    "                                                       'LA GORCE COUNTRY CLUB': 'La Gorce Country Club',\n",
    "                                                       'Lauderdale Yacht Club': 'Lauderdale Yacht Club',\n",
    "                                                       'Legends G & CCMA': 'Legends Golf and Country Club',\n",
    "                                                       'Lexington Community Association': 'Lexington Community Association',\n",
    "                                                       'Loblolly': 'Loblolly',\n",
    "                                                       'Lost Tree Club, Inc.': 'Lost Tree Club',\n",
    "                                                       'Mariner Sands Country Club, Inc.': 'Mariner Sands Country Club',\n",
    "                                                       'Mizner': 'Mizner Country Club',\n",
    "                                                       'Naples National Golf Club': 'Naples National Golf Club',\n",
    "                                                       'Naples Yacht Club': 'Naples Yacht Club',\n",
    "                                                       'Old Palm Golf Club, Inc.': 'Old Palm Golf Club',\n",
    "                                                       'Olde Hickory G & CC MA': 'Olde Hickory Golf and Country Club',\n",
    "                                                       'Orchid Island Golf and Beach Club': 'Orchid Island Golf and Beach Club',\n",
    "                                                       'PALMA CEIA GOLF AND COUNTRY CLUB, INC': 'Palma Ceia Golf and Country Club',\n",
    "                                                       'Pelican Marsh GC': 'Pelican Marsh Golf Club',\n",
    "                                                       \"Pelican's Nest Golf Club\": \"Pelican's Nest Golf Club\",\n",
    "                                                       'Pine Tree Golf Club': 'Pine Tree Golf Club',\n",
    "                                                       \"Pipers Landing \": \"Piper's Landing Yacht & Country Club\",\n",
    "                                                       'Quail Creek CC': 'Quail Creek Country Club',\n",
    "                                                       'Quail West Foundation': 'Quail West Foundation',\n",
    "                                                       'ROYAL PALM YACHT &CC': 'Royal Palm Yacht and Country Club',\n",
    "                                                       'Royal Poinciana Golf Club': 'Royal Poinciana Golf Club',\n",
    "                                                       'Royal Wood Golf & CC': 'Royal Wood Golf & Country Club',\n",
    "                                                       'Sailfish Point Golf Club': 'Sailfish Point Golf Club',\n",
    "                                                       'Sarasota Yacht Club': 'Sarasota Yacht Club',\n",
    "                                                       'Sawgrass Country Club': 'Sawgrass Country Club',\n",
    "                                                       'Seminole Golf Club': 'Seminole Golf Club',\n",
    "                                                       'Shadow Wood Country Club': 'Shadow Wood Country Club',\n",
    "                                                       'Spring Run GC': 'Spring Run Golf Club',\n",
    "                                                       'St. Andrews Country Club': 'St. Andrews Country Club',\n",
    "                                                       'Stoneybrook Golf & CC': 'Stoneybrook Golf and Country Club',\n",
    "                                                       'Tampa Yacht & Country Club, Inc. ': 'Tampa Yacht and Country Club',\n",
    "                                                       'The Beach Club': 'The Beach Club',\n",
    "                                                       'The Club at QR': 'The Club at Quail Ridge',\n",
    "                                                       'The Plantation at Ponte Vedra, Inc.': 'The Plantation at Ponte Vedra',\n",
    "                                                       'The Polo Club of Boca Raton': 'The Polo Club of Boca Raton',\n",
    "                                                       'Timber Pines Community Association': 'Timber Pines Community Association',\n",
    "                                                       'Vanderbilt C.A.': 'Vanderbilt Country Club',\n",
    "                                                       'Vasari CCMA': 'Vasari Country Club',\n",
    "                                                       'Vero Beach Country Club': 'Vero Beach Country Club',\n",
    "                                                       'Wildcat Run CCA': 'Wildcat Run Golf and Country Club',\n",
    "                                                       'Wilderness Country Club': 'Wilderness Club',\n",
    "                                                       'Winter Park Racquet Club, Inc. ': 'Winter Park Racquet Club',\n",
    "                                                       'Wycliffe Golf and Country Club': 'Wycliffe Golf and Country Club',\n",
    "                                                       'Wyndemere CC': 'Wyndemere Country Club'\n",
    "                                                      })"
   ]
  },
  {
   "cell_type": "markdown",
   "id": "3e61d894",
   "metadata": {},
   "source": [
    "###### Reclassify regional names"
   ]
  },
  {
   "cell_type": "code",
   "execution_count": 19,
   "id": "82eefb92",
   "metadata": {},
   "outputs": [],
   "source": [
    "df_final['Classification'] = df_final['Classification'].replace({'BOCA': 'Boca Raton Area',\n",
    "                                                       'SE exc BOCA': 'Southeast without Boca',\n",
    "                                                       'SW CIRA': 'Southwest CIRAs',\n",
    "                                                       'SW exc CIRA': 'Southwest without CIRAs',\n",
    "                                                       'Yacht & Beach': 'Yacht and Beach Clubs',\n",
    "                                                       'North&Central': 'North And Central'\n",
    "                                                      })"
   ]
  },
  {
   "cell_type": "markdown",
   "id": "ab0efc02",
   "metadata": {},
   "source": [
    "###### Drop duplicate ZIP Code "
   ]
  },
  {
   "cell_type": "code",
   "execution_count": 20,
   "id": "b68b805a",
   "metadata": {},
   "outputs": [],
   "source": [
    "zipcode = clubs[[\"Club name\", \"Zip Code\"]]"
   ]
  },
  {
   "cell_type": "code",
   "execution_count": 21,
   "id": "4dcb91f5",
   "metadata": {},
   "outputs": [],
   "source": [
    "zipcode = zipcode.drop_duplicates(subset = \"Zip Code\")"
   ]
  },
  {
   "cell_type": "code",
   "execution_count": 22,
   "id": "ca843335",
   "metadata": {},
   "outputs": [],
   "source": [
    "df_final =pd.merge(df_final, zipcode, on='Club name', how='left')"
   ]
  },
  {
   "cell_type": "markdown",
   "id": "02712797",
   "metadata": {},
   "source": [
    "### Append to Master File and Export"
   ]
  },
  {
   "cell_type": "markdown",
   "id": "1117e4c4",
   "metadata": {},
   "source": [
    "#### Append\n",
    "\n",
    "###### Append files to produce final data frame"
   ]
  },
  {
   "cell_type": "code",
   "execution_count": 23,
   "id": "9d2e7417",
   "metadata": {},
   "outputs": [],
   "source": [
    "# Filter Clubs data for 2023\n",
    "clubs = clubs[clubs['Year end'].dt.year == 2023]"
   ]
  },
  {
   "cell_type": "code",
   "execution_count": 24,
   "id": "99da25bd",
   "metadata": {},
   "outputs": [],
   "source": [
    "clubs['Year End'] = \"FY23\""
   ]
  },
  {
   "cell_type": "code",
   "execution_count": 25,
   "id": "de6c8eff",
   "metadata": {},
   "outputs": [],
   "source": [
    "master_df = pd.concat([clubs, df_final], ignore_index = True)\n",
    "#master_df = df_final.append(clubs)"
   ]
  },
  {
   "cell_type": "markdown",
   "id": "989b27d8",
   "metadata": {},
   "source": [
    "### Export\n",
    "\n",
    "###### Export final dataframe. This is the file that will produce the PowerBI Clubs Trends reports that the Clubs and Marketing Teams will utilize"
   ]
  },
  {
   "cell_type": "code",
   "execution_count": 26,
   "id": "3ff5c57d",
   "metadata": {},
   "outputs": [],
   "source": [
    "# Export\n",
    "master_df.to_excel('Dta/Smartsheet/Smartsheet Upload PowerBI.xlsx', index = False)"
   ]
  },
  {
   "cell_type": "markdown",
   "id": "d5b2b22b",
   "metadata": {},
   "source": [
    "## Audit\n",
    "\n",
    "###### The next calculations will produce an Excel file that should be sent to the Clubs team. Code produced are Fiscal Metric calculations they will observe to audit the findings from the PowerBI dashboard"
   ]
  },
  {
   "cell_type": "code",
   "execution_count": 36,
   "id": "7820e6e1",
   "metadata": {},
   "outputs": [],
   "source": [
    "# Conversions\n",
    "\n",
    "master_df['Food Revenue'] = pd.to_numeric(master_df['Food Revenue'], errors='coerce')\n",
    "master_df['Food Revenue'].fillna(0, inplace=True)\n",
    "\n",
    "master_df['Beverage Revenue'] = pd.to_numeric(master_df['Beverage Revenue'], errors='coerce')\n",
    "master_df['Beverage Revenue'].fillna(0, inplace=True)\n",
    "\n",
    "master_df['Cost of food sold'] = pd.to_numeric(master_df['Cost of food sold'], errors='coerce')\n",
    "master_df['Cost of food sold'].fillna(0, inplace=True)\n",
    "\n",
    "master_df['Cost of beverage sales'] = pd.to_numeric(master_df['Cost of beverage sales'], errors='coerce')\n",
    "master_df['Cost of beverage sales'].fillna(0, inplace=True)\n",
    "\n",
    "master_df['F&B - Salaries and wages expense (EXC credit for M'] = pd.to_numeric(master_df['F&B - Salaries and wages expense (EXC credit for M'], errors='coerce')\n",
    "master_df['F&B - Salaries and wages expense (EXC credit for M'].fillna(0, inplace=True)\n",
    "\n",
    "master_df['F&B - Less credit = 20% of F&B sales (only applies'] = pd.to_numeric(master_df['F&B - Less credit = 20% of F&B sales (only applies'], errors='coerce')\n",
    "master_df['F&B - Less credit = 20% of F&B sales (only applies'].fillna(0, inplace=True)\n",
    "\n",
    "master_df['F&B - Payroll taxes and benefits'] = pd.to_numeric(master_df['F&B - Payroll taxes and benefits'], errors='coerce')\n",
    "master_df['F&B - Payroll taxes and benefits'].fillna(0, inplace=True)\n",
    "\n",
    "master_df[\"F&B - Employees' meals\"] = pd.to_numeric(master_df[\"F&B - Employees' meals\"], errors='coerce')\n",
    "master_df[\"F&B - Employees' meals\"].fillna(0, inplace=True)\n",
    "\n",
    "master_df['F&B - Laundry'] = pd.to_numeric(master_df['F&B - Laundry'], errors='coerce')\n",
    "master_df['F&B - Laundry'].fillna(0, inplace=True)\n",
    "\n",
    "master_df['F&B - Linen, china, glass, silver'] = pd.to_numeric(master_df['F&B - Linen, china, glass, silver'], errors='coerce')\n",
    "master_df['F&B - Linen, china, glass, silver'].fillna(0, inplace=True)\n",
    "\n",
    "master_df['F&B - Other expenses (excluding entertainment, val'] = pd.to_numeric(master_df['F&B - Other expenses (excluding entertainment, val'], errors='coerce')\n",
    "master_df['F&B - Other expenses (excluding entertainment, val'].fillna(0, inplace=True)"
   ]
  },
  {
   "cell_type": "code",
   "execution_count": 37,
   "id": "6770821a",
   "metadata": {},
   "outputs": [],
   "source": [
    "master_df['F&B Revenue'] = (master_df['Food Revenue'] + master_df['Beverage Revenue']) \n",
    "master_df['F&B Costs'] = (master_df['Cost of food sold'] \n",
    "                          + master_df['Cost of beverage sales'] \n",
    "                          + master_df['F&B - Salaries and wages expense (EXC credit for M'] \n",
    "                          + master_df['F&B - Less credit = 20% of F&B sales (only applies'] \n",
    "                          + master_df['F&B - Payroll taxes and benefits'] \n",
    "                          + master_df[\"F&B - Employees' meals\"] \n",
    "                          + master_df['F&B - Laundry'] \n",
    "                          + master_df['F&B - Linen, china, glass, silver'] \n",
    "                          + master_df['F&B - Other expenses (excluding entertainment, val'])\n",
    "master_df['F&B Sibsidy'] = master_df['F&B Revenue'] - master_df['F&B Costs']"
   ]
  },
  {
   "cell_type": "code",
   "execution_count": 38,
   "id": "4f5001ca",
   "metadata": {},
   "outputs": [],
   "source": [
    "# Conversions\n",
    "\n",
    "master_df['GCM  All other expenses (including utilities)'] = pd.to_numeric(master_df['GCM  All other expenses (including utilities)'], errors='coerce')\n",
    "master_df['GCM  All other expenses (including utilities)'].fillna(0, inplace=True)\n",
    "\n",
    "master_df['GCM  Course supplies and contracts (includes gaso'] = pd.to_numeric(master_df['GCM  Course supplies and contracts (includes gaso'], errors='coerce')\n",
    "master_df['GCM  Course supplies and contracts (includes gaso'].fillna(0, inplace=True)\n",
    "\n",
    "master_df['GCM  Leased equipment expense'] = pd.to_numeric(master_df['GCM  Leased equipment expense'], errors='coerce')\n",
    "master_df['GCM  Leased equipment expense'].fillna(0, inplace=True)\n",
    "\n",
    "master_df['GCM  Payroll taxes and benefits'] = pd.to_numeric(master_df['GCM  Payroll taxes and benefits'], errors='coerce')\n",
    "master_df['GCM  Payroll taxes and benefits'].fillna(0, inplace=True)\n",
    "\n",
    "master_df['GCM  Repairs & mtce (includes tree trimming, lake'] = pd.to_numeric(master_df['GCM  Repairs & mtce (includes tree trimming, lake'], errors='coerce')\n",
    "master_df['GCM  Repairs & mtce (includes tree trimming, lake'].fillna(0, inplace=True)\n",
    "\n",
    "master_df['GCM  Salaries and wages'] = pd.to_numeric(master_df['GCM  Salaries and wages'], errors='coerce')\n",
    "master_df['GCM  Salaries and wages'].fillna(0, inplace=True)\n",
    "\n",
    "master_df['# of holes'] = pd.to_numeric(master_df['# of holes'], errors='coerce')\n",
    "master_df['# of holes'].fillna(0, inplace=True)"
   ]
  },
  {
   "cell_type": "code",
   "execution_count": 39,
   "id": "fe6c9bfc",
   "metadata": {},
   "outputs": [],
   "source": [
    "master_df['GCM Total'] = (master_df['GCM  All other expenses (including utilities)'] +\n",
    "master_df['GCM  Course supplies and contracts (includes gaso'] +\n",
    "master_df['GCM  Leased equipment expense'] +\n",
    "master_df['GCM  Payroll taxes and benefits'] +\n",
    "master_df['GCM  Repairs & mtce (includes tree trimming, lake'] +\n",
    "master_df['GCM  Salaries and wages'])\n",
    "\n",
    "master_df['GCM Cost per hole'] = master_df.apply(lambda row: row['GCM Total'] / row['# of holes'] if row['# of holes'] != 0 else 0, axis=1)"
   ]
  },
  {
   "cell_type": "code",
   "execution_count": 40,
   "id": "2481c1a5",
   "metadata": {},
   "outputs": [],
   "source": [
    "# Conversions\n",
    "\n",
    "master_df['Full Member Equivalents (FME)'] = pd.to_numeric(master_df['Full Member Equivalents (FME)'], errors='coerce')\n",
    "master_df['Full Member Equivalents (FME)'].fillna(0, inplace=True)\n",
    "\n",
    "master_df['Total Third Party Debt'] = pd.to_numeric(master_df['Total Third Party Debt'], errors='coerce')\n",
    "master_df['Total Third Party Debt'].fillna(0, inplace=True)\n",
    "\n",
    "master_df['Golf Revenue'] = pd.to_numeric(master_df['Golf Revenue'], errors='coerce')\n",
    "master_df['Golf Revenue'].fillna(0, inplace=True)\n",
    "\n",
    "master_df['Tennis Revenue'] = pd.to_numeric(master_df['Tennis Revenue'], errors='coerce')\n",
    "master_df['Tennis Revenue'].fillna(0, inplace=True)\n",
    "\n",
    "master_df['Pro Shop Sales'] = pd.to_numeric(master_df['Pro Shop Sales'], errors='coerce')\n",
    "master_df['Pro Shop Sales'].fillna(0, inplace=True)\n",
    "\n",
    "master_df['Dues Revenue'] = pd.to_numeric(master_df['Dues Revenue'], errors='coerce')\n",
    "master_df['Dues Revenue'].fillna(0, inplace=True)\n",
    "\n",
    "master_df['Operating Assessments'] = pd.to_numeric(master_df['Operating Assessments'], errors='coerce')\n",
    "master_df['Operating Assessments'].fillna(0, inplace=True)\n",
    "\n",
    "master_df['Non-Owner Initiation fees'] = pd.to_numeric(master_df['Non-Owner Initiation fees'], errors='coerce')\n",
    "master_df['Non-Owner Initiation fees'].fillna(0, inplace=True)\n",
    "\n",
    "master_df['Food Revenue'] = pd.to_numeric(master_df['Food Revenue'], errors='coerce')\n",
    "master_df['Food Revenue'].fillna(0, inplace=True)\n",
    "\n",
    "master_df['Food Revenue'] = pd.to_numeric(master_df['Food Revenue'], errors='coerce')\n",
    "master_df['Food Revenue'].fillna(0, inplace=True)\n",
    "\n",
    "master_df['Beverage Revenue'] = pd.to_numeric(master_df['Beverage Revenue'], errors='coerce')\n",
    "master_df['Beverage Revenue'].fillna(0, inplace=True)\n",
    "\n",
    "master_df['All Other F&B Revenue'] = pd.to_numeric(master_df['All Other F&B Revenue'], errors='coerce')\n",
    "master_df['All Other F&B Revenue'].fillna(0, inplace=True)\n",
    "\n",
    "master_df['Payroll and PTEB Expense'] = pd.to_numeric(master_df['Payroll and PTEB Expense'], errors='coerce')\n",
    "master_df['Payroll and PTEB Expense'].fillna(0, inplace=True)\n",
    "\n",
    "master_df['Cost of sales - F&B'] = pd.to_numeric(master_df['Cost of sales - F&B'], errors='coerce')\n",
    "master_df['Cost of sales - F&B'].fillna(0, inplace=True)\n",
    "\n",
    "master_df['Cost of Sales - Pro shop'] = pd.to_numeric(master_df['Cost of Sales - Pro shop'], errors='coerce')\n",
    "master_df['Cost of Sales - Pro shop'].fillna(0, inplace=True)\n",
    "\n",
    "master_df['Operating Expenses'] = pd.to_numeric(master_df['Operating Expenses'], errors='coerce')\n",
    "master_df['Operating Expenses'].fillna(0, inplace=True)\n",
    "\n",
    "master_df['Property Taxes'] = pd.to_numeric(master_df['Property Taxes'], errors='coerce')\n",
    "master_df['Property Taxes'].fillna(0, inplace=True)\n",
    "\n",
    "master_df['Insurance Expense'] = pd.to_numeric(master_df['Insurance Expense'], errors='coerce')\n",
    "master_df['Insurance Expense'].fillna(0, inplace=True)\n",
    "\n",
    "master_df['Total employees in season'] = pd.to_numeric(master_df['Total employees in season'], errors='coerce')\n",
    "master_df['Total employees in season'].fillna(0, inplace=True)"
   ]
  },
  {
   "cell_type": "code",
   "execution_count": 41,
   "id": "3da7a398",
   "metadata": {},
   "outputs": [],
   "source": [
    "# Financial Metrics\n",
    "master_df['Debt/Equity Ratio'] = master_df['Total Total Liabilities'] / master_df['Ending Net Assets']\n",
    "master_df['Working Cap Ratio'] = master_df['Current Assets'] / master_df['Current Liabilities']\n",
    "master_df['Debt per FME'] = master_df['Total Third Party Debt'] / master_df['Full Member Equivalents (FME)']\n",
    "master_df['Total Revenue'] = (master_df['Golf Revenue'] + master_df['Tennis Revenue'] + \n",
    "                              master_df['Pro Shop Sales'] + master_df['Dues Revenue'] + \n",
    "                              master_df['Operating Assessments'] + \n",
    "                              master_df['Non-Owner Initiation fees'] + \n",
    "                              master_df['Food Revenue'] + master_df['Beverage Revenue'] + \n",
    "                              master_df['All Other F&B Revenue'] + \n",
    "                              master_df['Other Sports Revenue']) \n",
    "master_df['Total Expenses'] = (master_df['Payroll and PTEB Expense'] + master_df['Cost of food sold'] + \n",
    "                               master_df['Cost of Sales - Pro shop'] + master_df['Operating Expenses'] + \n",
    "                               master_df['Property Taxes'] + master_df['Insurance Expense'] +\n",
    "                               master_df['Cost of beverage sales']) "
   ]
  },
  {
   "cell_type": "code",
   "execution_count": 42,
   "id": "b9382283",
   "metadata": {},
   "outputs": [],
   "source": [
    "# % Revenue Metrics\n",
    "master_df['Golf%'] = master_df['Golf Revenue'] / master_df['Total Revenue']\n",
    "master_df['Tennis%'] = master_df['Tennis Revenue']  / master_df['Total Revenue']\n",
    "master_df['Pro Shop Sales%'] = master_df['Pro Shop Sales'] / master_df['Total Revenue']\n",
    "master_df['Dues%'] = master_df['Dues Revenue'] / master_df['Total Revenue']\n",
    "master_df['Operating Assessments%'] = master_df['Operating Assessments'] / master_df['Total Revenue']\n",
    "master_df['Initiation fees%'] = master_df['Non-Owner Initiation fees'] / master_df['Total Revenue']\n",
    "master_df['Food sales%'] = master_df['Food Revenue'] / master_df['Total Revenue']\n",
    "master_df['Beverage sales%'] = master_df['Beverage Revenue'] / master_df['Total Revenue']\n",
    "master_df['All Other%'] = master_df['All Other F&B Revenue'] / master_df['Total Revenue']"
   ]
  },
  {
   "cell_type": "code",
   "execution_count": 43,
   "id": "602bff1d",
   "metadata": {},
   "outputs": [],
   "source": [
    "# % Expense Metrics\n",
    "master_df['Payroll and related%'] = master_df['Payroll and PTEB Expense'] / master_df['Total Expenses']\n",
    "master_df['Cost of sales- F&B%'] = master_df['Cost of sales - F&B'] / master_df['Total Expenses']\n",
    "master_df['Cost of sales- Pro shop%'] = master_df['Cost of Sales - Pro shop'] / master_df['Total Expenses']\n",
    "master_df['Operating expenses%'] = master_df['Operating Expenses'] / master_df['Total Expenses']\n",
    "master_df['Property taxes%'] = master_df['Property Taxes'] / master_df['Total Expenses']\n",
    "master_df['Insurance%'] = master_df['Insurance Expense'] / master_df['Total Expenses']"
   ]
  },
  {
   "cell_type": "code",
   "execution_count": 44,
   "id": "6015098b",
   "metadata": {},
   "outputs": [],
   "source": [
    "# Revenue per FME Metrics\n",
    "master_df['Golf/FME'] = master_df['Golf Revenue'] / master_df['Full Member Equivalents (FME)']\n",
    "master_df['Tennis/FME'] = master_df['Tennis Revenue']  / master_df['Full Member Equivalents (FME)']\n",
    "master_df['Pro Shop Sales/FME'] = master_df['Pro Shop Sales'] / master_df['Full Member Equivalents (FME)']\n",
    "master_df['Dues/FME'] = master_df['Dues Revenue'] / master_df['Full Member Equivalents (FME)']\n",
    "master_df['Operating Assessments/FME'] = master_df['Operating Assessments'] / master_df['Full Member Equivalents (FME)']\n",
    "master_df['Initiation fees/FME'] = master_df['Non-Owner Initiation fees'] / master_df['Full Member Equivalents (FME)']\n",
    "master_df['Food sales/FME'] = master_df['Food Revenue'] / master_df['Full Member Equivalents (FME)']\n",
    "master_df['Beverage sales/FME'] = master_df['Beverage Revenue'] / master_df['Full Member Equivalents (FME)']\n",
    "master_df['All Other/FME'] = master_df['All Other F&B Revenue'] / master_df['Full Member Equivalents (FME)']\n",
    "master_df['Total Revenue/FME'] = master_df['Total Revenue'] / master_df['Full Member Equivalents (FME)']"
   ]
  },
  {
   "cell_type": "code",
   "execution_count": 45,
   "id": "d56a7762",
   "metadata": {},
   "outputs": [],
   "source": [
    "# Expense per FME Metrics\n",
    "master_df['Payroll and related/FME'] = master_df['Payroll and PTEB Expense'] / master_df['Full Member Equivalents (FME)']\n",
    "master_df['Cost of sales- F&B/FME'] = master_df['Cost of sales - F&B'] / master_df['Full Member Equivalents (FME)']\n",
    "master_df['Cost of sales- Pro shop/FME'] = master_df['Cost of Sales - Pro shop'] / master_df['Full Member Equivalents (FME)']\n",
    "master_df['Operating expenses/FME'] = master_df['Operating Expenses'] / master_df['Full Member Equivalents (FME)']\n",
    "master_df['Property taxes/FME'] = master_df['Property Taxes'] / master_df['Full Member Equivalents (FME)']\n",
    "master_df['Insurance/FME'] = master_df['Insurance Expense'] / master_df['Full Member Equivalents (FME)']\n",
    "master_df['Total Expenses/FME'] = master_df['Total Expenses'] / master_df['Full Member Equivalents (FME)']"
   ]
  },
  {
   "cell_type": "code",
   "execution_count": 46,
   "id": "174c6449",
   "metadata": {},
   "outputs": [],
   "source": [
    "# Employees per FME Metric\n",
    "master_df['FME per employee'] = master_df['Full Member Equivalents (FME)'] / master_df['Total employees in season']"
   ]
  },
  {
   "cell_type": "code",
   "execution_count": 48,
   "id": "c72a54ae",
   "metadata": {},
   "outputs": [],
   "source": [
    "master_df.to_excel('Dta/Smartsheet/Smartsheet Data Extract.xlsx', index = False)"
   ]
  }
 ],
 "metadata": {
  "kernelspec": {
   "display_name": "ESG Advisor",
   "language": "python",
   "name": "esgadv"
  },
  "language_info": {
   "codemirror_mode": {
    "name": "ipython",
    "version": 3
   },
   "file_extension": ".py",
   "mimetype": "text/x-python",
   "name": "python",
   "nbconvert_exporter": "python",
   "pygments_lexer": "ipython3",
   "version": "3.10.13"
  }
 },
 "nbformat": 4,
 "nbformat_minor": 5
}
